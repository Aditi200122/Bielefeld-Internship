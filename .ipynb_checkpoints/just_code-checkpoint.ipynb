{
 "cells": [
  {
   "cell_type": "code",
   "execution_count": 2,
   "id": "03e2dbbe",
   "metadata": {},
   "outputs": [],
   "source": [
    "from lorenz_utils_clean import (\n",
    "    extract_names,\n",
    "    count_donor_msgs_words,\n",
    "    calculate_gini,\n",
    "    get_lorenz_points,\n",
    "    plot_lorenz_curve\n",
    ")\n",
    "import matplotlib.pyplot as plt\n",
    "import numpy as np\n",
    "import pandas as pd\n",
    "import os\n",
    "from ipywidgets import interact, Dropdown\n"
   ]
  },
  {
   "cell_type": "code",
   "execution_count": 3,
   "id": "9fb6103b",
   "metadata": {},
   "outputs": [],
   "source": [
    "file_paths = [\n",
    "    'Example_chat_data/WhatsApp_Chat_with_Donna_Patterson.txt',\n",
    "    'Example_chat_data/WhatsApp_Chat_with_Dr._Heather_Hanson.txt',\n",
    "    'Example_chat_data/WhatsApp_Chat_with_Jeffery_Hill_.txt',\n",
    "    'Example_chat_data/WhatsApp_Chat_with_Michelle_Morris.txt',\n",
    "    'Example_chat_data/WhatsApp_Chat_with_Sherry_Flores.txt'\n",
    "]"
   ]
  },
  {
   "cell_type": "code",
   "execution_count": 4,
   "id": "35b039c1",
   "metadata": {},
   "outputs": [
    {
     "name": "stdout",
     "output_type": "stream",
     "text": [
      "Donor Name: Kyle Adkins\n"
     ]
    }
   ],
   "source": [
    "# Finding common name across all chats\n",
    "name_sets = [extract_names(path) for path in file_paths]\n",
    "common_names = set.intersection(*name_sets)\n",
    "donor_name = common_names.pop() if common_names else \"No donor found\"\n",
    "print(\"Donor Name:\", donor_name)\n"
   ]
  },
  {
   "cell_type": "code",
   "execution_count": 5,
   "id": "8c894579",
   "metadata": {},
   "outputs": [
    {
     "name": "stdout",
     "output_type": "stream",
     "text": [
      "Message counts: {'Donna Patterson': 2494, 'Dr. Heather Hanson': 924, 'Jeffery Hill': 2144, 'Michelle Morris': 12231, 'Sherry Flores': 554}\n",
      "Word counts: {'Donna Patterson': 10100, 'Dr. Heather Hanson': 3178, 'Jeffery Hill': 13029, 'Michelle Morris': 43111, 'Sherry Flores': 2583}\n"
     ]
    }
   ],
   "source": [
    "message_counts = {}\n",
    "word_counts = {}\n",
    "\n",
    "for path in file_paths: \n",
    "    contact, msgs, words = count_donor_msgs_words(path, donor_name)\n",
    "    message_counts[contact] = msgs\n",
    "    word_counts[contact] = words\n",
    "\n",
    "print(\"Message counts:\", message_counts)\n",
    "print(\"Word counts:\", word_counts)\n"
   ]
  },
  {
   "cell_type": "code",
   "execution_count": 6,
   "id": "7968bae2",
   "metadata": {},
   "outputs": [
    {
     "name": "stdout",
     "output_type": "stream",
     "text": [
      "Gini index for messages: 0.543\n",
      "Gini index for words: 0.505\n"
     ]
    }
   ],
   "source": [
    "gini_messages = calculate_gini(message_counts)\n",
    "gini_words = calculate_gini(word_counts)\n",
    "\n",
    "print(f\"Gini index for messages: {gini_messages:.3f}\")\n",
    "print(f\"Gini index for words: {gini_words:.3f}\")\n"
   ]
  },
  {
   "cell_type": "code",
   "execution_count": 7,
   "id": "d0d4af9e",
   "metadata": {},
   "outputs": [
    {
     "data": {
      "application/vnd.jupyter.widget-view+json": {
       "model_id": "c52ccd89ddee44eb96cb37da47019e5e",
       "version_major": 2,
       "version_minor": 0
      },
      "text/plain": [
       "interactive(children=(Dropdown(description='Show:', options=('Messages', 'Words'), value='Messages'), Output()…"
      ]
     },
     "metadata": {},
     "output_type": "display_data"
    }
   ],
   "source": [
    "@interact(data_type=Dropdown(options=['Messages', 'Words'], description='Show:'))\n",
    "def display_bar_chart(data_type):\n",
    "    # Choose which data to show\n",
    "    data = message_counts if data_type == 'Messages' else word_counts\n",
    "\n",
    "    # bar chart\n",
    "    plt.figure(figsize=(8, 5))\n",
    "    plt.bar(data.keys(), data.values(), color='skyblue')\n",
    "    plt.title(f\"Donor's {data_type} Sent Per Contact\")\n",
    "    plt.ylabel(f\"Number of {data_type}\")\n",
    "    plt.xticks(rotation=45)\n",
    "    plt.tight_layout()\n",
    "    plt.grid(True)\n",
    "    plt.show()\n"
   ]
  },
  {
   "cell_type": "code",
   "execution_count": 9,
   "id": "272804f8",
   "metadata": {},
   "outputs": [
    {
     "data": {
      "application/vnd.jupyter.widget-view+json": {
       "model_id": "2c2c2b01b7b2449ea8c6b9863caa231f",
       "version_major": 2,
       "version_minor": 0
      },
      "text/plain": [
       "interactive(children=(Dropdown(description='Donor:', options=('Kyle Adkins',), value='Kyle Adkins'), Dropdown(…"
      ]
     },
     "metadata": {},
     "output_type": "display_data"
    }
   ],
   "source": [
    "@interact(\n",
    "    donor=Dropdown(options=[\"Kyle Adkins\"], description=\"Donor:\"),\n",
    "    data_type=Dropdown(options=[\"Messages\", \"Words\"], description=\"Data:\")\n",
    ")\n",
    "def plot_lorenz_for_donor(donor, data_type):\n",
    "    data = message_counts if data_type == \"Messages\" else word_counts\n",
    "    x, y = get_lorenz_points(data)\n",
    "    gini = calculate_gini(data)\n",
    "\n",
    "    plt.figure(figsize=(6, 5))\n",
    "    plt.plot(x * 100, y * 100, label=\"Lorenz Curve\", color=\"blue\")\n",
    "    plt.plot([0, 100], [0, 100], linestyle=\"--\", color=\"gray\", label=\"Perfect Equality\")\n",
    "    plt.fill_between(x * 100, x * 100, y * 100, color=\"lightblue\", alpha=0.3)\n",
    "    plt.title(f\"{donor} — {data_type} Lorenz Curve (Gini = {gini:.3f})\")\n",
    "    plt.xlabel(\"Cumulative % of Contacts\")\n",
    "    plt.ylabel(f\"Cumulative % of {data_type}\")\n",
    "    plt.grid(True)\n",
    "    plt.legend()\n",
    "    plt.tight_layout()\n",
    "    plt.show()\n"
   ]
  },
  {
   "cell_type": "markdown",
   "id": "6dc193a0",
   "metadata": {},
   "source": [
    "### 🧾 Explanation of Lorenz Curve and Gini Index:\n",
    "\n",
    "The Lorenz Curve is a visual way to show how equally or unequally something is distributed — in this case, how a donor sends messages or words across their contacts. On the graph:\n",
    "\n",
    "* The x-axis shows the cumulative percentage of contacts (from least messaged to most).\n",
    "* The y-axis shows the cumulative percentage of messages or words sent.\n",
    "* The diagonal line represents *perfect equality* — where every contact would receive the exact same number of messages.\n",
    "\n",
    "The blue curve (the Lorenz curve) shows the actual distribution. The further this curve bends away from the diagonal, the more unequal the distribution is.\n",
    "\n",
    "The Gini Index is a number between 0 and 1 that quantifies this inequality:\n",
    "\n",
    "* A Gini Index of 0 means perfect equality (everyone gets the same amount).\n",
    "* A Gini Index close to 1 means extreme inequality (most messages go to just a few people).\n",
    "\n",
    "For example, if the Gini index is 0.54, that means the donor is concentrating most of their communication with just a few contacts, while others receive much less. If it's closer to 0.2 or 0.3, it suggests a more balanced interaction.\n",
    "\n",
    "\n"
   ]
  },
  {
   "cell_type": "markdown",
   "id": "368367a2",
   "metadata": {},
   "source": [
    "The Lorenz curve shows how evenly the donor talks to their contacts. If the curve bends a lot away from the diagonal, it means they message a few people way more than others. The Gini index tells this as a number — the higher it is, the more unequal the messaging pattern."
   ]
  },
  {
   "cell_type": "code",
   "execution_count": null,
   "id": "d158268b",
   "metadata": {},
   "outputs": [],
   "source": []
  }
 ],
 "metadata": {
  "kernelspec": {
   "display_name": "Python 3 (ipykernel)",
   "language": "python",
   "name": "python3"
  },
  "language_info": {
   "codemirror_mode": {
    "name": "ipython",
    "version": 3
   },
   "file_extension": ".py",
   "mimetype": "text/x-python",
   "name": "python",
   "nbconvert_exporter": "python",
   "pygments_lexer": "ipython3",
   "version": "3.11.5"
  }
 },
 "nbformat": 4,
 "nbformat_minor": 5
}
